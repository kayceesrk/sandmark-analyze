{
 "cells": [
  {
   "cell_type": "markdown",
   "metadata": {},
   "source": [
    "## Import Data"
   ]
  },
  {
   "cell_type": "code",
   "execution_count": 1,
   "metadata": {},
   "outputs": [],
   "source": [
    "import json\n",
    "import os, glob\n",
    "import pandas as pd\n",
    "import pandas.io.json as pdjson\n",
    "import seaborn as sns\n",
    "import requests"
   ]
  },
  {
   "cell_type": "code",
   "execution_count": 3,
   "metadata": {
    "scrolled": true
   },
   "outputs": [
    {
     "name": "stdout",
     "output_type": "stream",
     "text": [
      "<class 'pandas.core.frame.DataFrame'>\n",
      "Int64Index: 386 entries, 0 to 192\n",
      "Data columns (total 25 columns):\n",
      "name                               386 non-null object\n",
      "command                            386 non-null object\n",
      "time_secs                          386 non-null float64\n",
      "user_time_secs                     386 non-null float64\n",
      "sys_time_secs                      386 non-null float64\n",
      "maxrss_kB                          386 non-null int64\n",
      "ocaml_url                          386 non-null object\n",
      "ocaml.version                      386 non-null object\n",
      "ocaml.c_compiler                   386 non-null object\n",
      "ocaml.architecture                 386 non-null object\n",
      "ocaml.word_size                    386 non-null object\n",
      "ocaml.system                       386 non-null object\n",
      "ocaml.function_sections            386 non-null object\n",
      "ocaml.supports_shared_libraries    386 non-null object\n",
      "gc.allocated_words                 386 non-null int64\n",
      "gc.minor_words                     386 non-null int64\n",
      "gc.promoted_words                  386 non-null int64\n",
      "gc.major_words                     386 non-null int64\n",
      "gc.minor_collections               386 non-null int64\n",
      "gc.major_collections               386 non-null int64\n",
      "gc.heap_words                      386 non-null int64\n",
      "gc.heap_chunks                     386 non-null int64\n",
      "gc.top_heap_words                  386 non-null int64\n",
      "gc.compactions                     386 non-null int64\n",
      "commitid                           386 non-null object\n",
      "dtypes: float64(3), int64(11), object(11)\n",
      "memory usage: 78.4+ KB\n"
     ]
    },
    {
     "data": {
      "text/html": [
       "<div>\n",
       "<style scoped>\n",
       "    .dataframe tbody tr th:only-of-type {\n",
       "        vertical-align: middle;\n",
       "    }\n",
       "\n",
       "    .dataframe tbody tr th {\n",
       "        vertical-align: top;\n",
       "    }\n",
       "\n",
       "    .dataframe thead th {\n",
       "        text-align: right;\n",
       "    }\n",
       "</style>\n",
       "<table border=\"1\" class=\"dataframe\">\n",
       "  <thead>\n",
       "    <tr style=\"text-align: right;\">\n",
       "      <th></th>\n",
       "      <th>time_secs</th>\n",
       "      <th>user_time_secs</th>\n",
       "      <th>sys_time_secs</th>\n",
       "      <th>maxrss_kB</th>\n",
       "      <th>gc.allocated_words</th>\n",
       "      <th>gc.minor_words</th>\n",
       "      <th>gc.promoted_words</th>\n",
       "      <th>gc.major_words</th>\n",
       "      <th>gc.minor_collections</th>\n",
       "      <th>gc.major_collections</th>\n",
       "      <th>gc.heap_words</th>\n",
       "      <th>gc.heap_chunks</th>\n",
       "      <th>gc.top_heap_words</th>\n",
       "      <th>gc.compactions</th>\n",
       "    </tr>\n",
       "  </thead>\n",
       "  <tbody>\n",
       "    <tr>\n",
       "      <td>count</td>\n",
       "      <td>386.000000</td>\n",
       "      <td>386.000000</td>\n",
       "      <td>386.000000</td>\n",
       "      <td>386.000000</td>\n",
       "      <td>3.860000e+02</td>\n",
       "      <td>3.860000e+02</td>\n",
       "      <td>3.860000e+02</td>\n",
       "      <td>3.860000e+02</td>\n",
       "      <td>386.000000</td>\n",
       "      <td>386.000000</td>\n",
       "      <td>3.860000e+02</td>\n",
       "      <td>386.000000</td>\n",
       "      <td>3.860000e+02</td>\n",
       "      <td>386.000000</td>\n",
       "    </tr>\n",
       "    <tr>\n",
       "      <td>mean</td>\n",
       "      <td>2.503011</td>\n",
       "      <td>2.455272</td>\n",
       "      <td>0.047080</td>\n",
       "      <td>27002.113990</td>\n",
       "      <td>2.785815e+08</td>\n",
       "      <td>2.679192e+08</td>\n",
       "      <td>1.244271e+07</td>\n",
       "      <td>2.310496e+07</td>\n",
       "      <td>1076.598446</td>\n",
       "      <td>84.689119</td>\n",
       "      <td>3.094364e+06</td>\n",
       "      <td>4.194301</td>\n",
       "      <td>3.316968e+06</td>\n",
       "      <td>7.670984</td>\n",
       "    </tr>\n",
       "    <tr>\n",
       "      <td>std</td>\n",
       "      <td>7.535295</td>\n",
       "      <td>7.466775</td>\n",
       "      <td>0.364199</td>\n",
       "      <td>78578.808961</td>\n",
       "      <td>1.008237e+09</td>\n",
       "      <td>1.000231e+09</td>\n",
       "      <td>4.455010e+07</td>\n",
       "      <td>9.499959e+07</td>\n",
       "      <td>3851.568193</td>\n",
       "      <td>349.478858</td>\n",
       "      <td>9.718476e+06</td>\n",
       "      <td>6.752475</td>\n",
       "      <td>1.015971e+07</td>\n",
       "      <td>50.969388</td>\n",
       "    </tr>\n",
       "    <tr>\n",
       "      <td>min</td>\n",
       "      <td>0.001129</td>\n",
       "      <td>0.000000</td>\n",
       "      <td>0.000000</td>\n",
       "      <td>2480.000000</td>\n",
       "      <td>8.700000e+01</td>\n",
       "      <td>8.700000e+01</td>\n",
       "      <td>0.000000e+00</td>\n",
       "      <td>0.000000e+00</td>\n",
       "      <td>0.000000</td>\n",
       "      <td>0.000000</td>\n",
       "      <td>7.372800e+04</td>\n",
       "      <td>1.000000</td>\n",
       "      <td>4.915200e+05</td>\n",
       "      <td>0.000000</td>\n",
       "    </tr>\n",
       "    <tr>\n",
       "      <td>25%</td>\n",
       "      <td>0.381861</td>\n",
       "      <td>0.375533</td>\n",
       "      <td>0.000000</td>\n",
       "      <td>4528.000000</td>\n",
       "      <td>9.818020e+05</td>\n",
       "      <td>9.818020e+05</td>\n",
       "      <td>7.500000e+01</td>\n",
       "      <td>7.800000e+01</td>\n",
       "      <td>4.000000</td>\n",
       "      <td>0.000000</td>\n",
       "      <td>4.915200e+05</td>\n",
       "      <td>1.000000</td>\n",
       "      <td>4.915200e+05</td>\n",
       "      <td>0.000000</td>\n",
       "    </tr>\n",
       "    <tr>\n",
       "      <td>50%</td>\n",
       "      <td>0.975114</td>\n",
       "      <td>0.970249</td>\n",
       "      <td>0.000000</td>\n",
       "      <td>5326.000000</td>\n",
       "      <td>5.000010e+07</td>\n",
       "      <td>4.590009e+07</td>\n",
       "      <td>1.372500e+03</td>\n",
       "      <td>4.006850e+04</td>\n",
       "      <td>196.000000</td>\n",
       "      <td>2.000000</td>\n",
       "      <td>4.915200e+05</td>\n",
       "      <td>1.000000</td>\n",
       "      <td>4.915200e+05</td>\n",
       "      <td>0.000000</td>\n",
       "    </tr>\n",
       "    <tr>\n",
       "      <td>75%</td>\n",
       "      <td>1.968765</td>\n",
       "      <td>1.950511</td>\n",
       "      <td>0.007938</td>\n",
       "      <td>10213.000000</td>\n",
       "      <td>9.003913e+07</td>\n",
       "      <td>8.765451e+07</td>\n",
       "      <td>3.575816e+06</td>\n",
       "      <td>7.999584e+06</td>\n",
       "      <td>369.000000</td>\n",
       "      <td>37.000000</td>\n",
       "      <td>5.652480e+05</td>\n",
       "      <td>3.000000</td>\n",
       "      <td>6.228480e+05</td>\n",
       "      <td>2.000000</td>\n",
       "    </tr>\n",
       "    <tr>\n",
       "      <td>max</td>\n",
       "      <td>92.215903</td>\n",
       "      <td>91.718258</td>\n",
       "      <td>4.750759</td>\n",
       "      <td>728548.000000</td>\n",
       "      <td>9.746759e+09</td>\n",
       "      <td>9.746743e+09</td>\n",
       "      <td>4.356128e+08</td>\n",
       "      <td>1.039655e+09</td>\n",
       "      <td>37210.000000</td>\n",
       "      <td>3562.000000</td>\n",
       "      <td>9.152973e+07</td>\n",
       "      <td>38.000000</td>\n",
       "      <td>9.152973e+07</td>\n",
       "      <td>562.000000</td>\n",
       "    </tr>\n",
       "  </tbody>\n",
       "</table>\n",
       "</div>"
      ],
      "text/plain": [
       "        time_secs  user_time_secs  sys_time_secs      maxrss_kB  \\\n",
       "count  386.000000      386.000000     386.000000     386.000000   \n",
       "mean     2.503011        2.455272       0.047080   27002.113990   \n",
       "std      7.535295        7.466775       0.364199   78578.808961   \n",
       "min      0.001129        0.000000       0.000000    2480.000000   \n",
       "25%      0.381861        0.375533       0.000000    4528.000000   \n",
       "50%      0.975114        0.970249       0.000000    5326.000000   \n",
       "75%      1.968765        1.950511       0.007938   10213.000000   \n",
       "max     92.215903       91.718258       4.750759  728548.000000   \n",
       "\n",
       "       gc.allocated_words  gc.minor_words  gc.promoted_words  gc.major_words  \\\n",
       "count        3.860000e+02    3.860000e+02       3.860000e+02    3.860000e+02   \n",
       "mean         2.785815e+08    2.679192e+08       1.244271e+07    2.310496e+07   \n",
       "std          1.008237e+09    1.000231e+09       4.455010e+07    9.499959e+07   \n",
       "min          8.700000e+01    8.700000e+01       0.000000e+00    0.000000e+00   \n",
       "25%          9.818020e+05    9.818020e+05       7.500000e+01    7.800000e+01   \n",
       "50%          5.000010e+07    4.590009e+07       1.372500e+03    4.006850e+04   \n",
       "75%          9.003913e+07    8.765451e+07       3.575816e+06    7.999584e+06   \n",
       "max          9.746759e+09    9.746743e+09       4.356128e+08    1.039655e+09   \n",
       "\n",
       "       gc.minor_collections  gc.major_collections  gc.heap_words  \\\n",
       "count            386.000000            386.000000   3.860000e+02   \n",
       "mean            1076.598446             84.689119   3.094364e+06   \n",
       "std             3851.568193            349.478858   9.718476e+06   \n",
       "min                0.000000              0.000000   7.372800e+04   \n",
       "25%                4.000000              0.000000   4.915200e+05   \n",
       "50%              196.000000              2.000000   4.915200e+05   \n",
       "75%              369.000000             37.000000   5.652480e+05   \n",
       "max            37210.000000           3562.000000   9.152973e+07   \n",
       "\n",
       "       gc.heap_chunks  gc.top_heap_words  gc.compactions  \n",
       "count      386.000000       3.860000e+02      386.000000  \n",
       "mean         4.194301       3.316968e+06        7.670984  \n",
       "std          6.752475       1.015971e+07       50.969388  \n",
       "min          1.000000       4.915200e+05        0.000000  \n",
       "25%          1.000000       4.915200e+05        0.000000  \n",
       "50%          1.000000       4.915200e+05        0.000000  \n",
       "75%          3.000000       6.228480e+05        2.000000  \n",
       "max         38.000000       9.152973e+07      562.000000  "
      ]
     },
     "execution_count": 3,
     "metadata": {},
     "output_type": "execute_result"
    }
   ],
   "source": [
    "def results_url(**kwargs):\n",
    "    return \"http://{host}/artifacts/{environment}/{repo_branch_name}/{commitid}/{variant}/{timestamp}/{timestamp}_{ocaml_version}.bench\".format(**kwargs)\n",
    "\n",
    "def load_bench_results(**kwargs):\n",
    "    url = results_url(**kwargs)\n",
    "    r = requests.get(url)\n",
    "    xs = [json.loads(l) for l in r.text.splitlines()]\n",
    "    df = pdjson.json_normalize(xs)\n",
    "    return df\n",
    "\n",
    "commit_a = {\n",
    "    'host': 'bench2.ocamllabs.io:8083',\n",
    "    'environment': 'bench2.ocamllabs.io',\n",
    "    'repo_branch_name': 'ocaml_trunk__trunk',\n",
    "    'commitid': '4ecd0e477677c4a16cc0f964d6fb85eb48fb1ff0',\n",
    "    'variant': 'vanilla',\n",
    "    'timestamp': '20191019_060219',\n",
    "    'ocaml_version': '4.10.0',\n",
    "    }\n",
    "\n",
    "commit_b = {\n",
    "    'host': 'bench2.ocamllabs.io:8083',\n",
    "    'environment': 'bench2.ocamllabs.io',\n",
    "    'repo_branch_name': 'closure_rep3__closure_rep3',\n",
    "    'commitid': '7fd87287430596fbeb17e9cf74c8e5d5688112b6',\n",
    "    'variant': 'vanilla',\n",
    "    'timestamp': '20190928_025446',\n",
    "    'ocaml_version': '4.10.0',\n",
    "    }\n",
    "\n",
    "def load_commit(conf):\n",
    "    df = load_bench_results(**conf)\n",
    "    df['commitid'] = conf['commitid'][0:8]\n",
    "    return df\n",
    "    \n",
    "\n",
    "df = pd.concat([load_commit(commit_a), load_commit(commit_b)])\n",
    "df.info()\n",
    "df.describe()"
   ]
  },
  {
   "cell_type": "code",
   "execution_count": null,
   "metadata": {},
   "outputs": [],
   "source": [
    "df.head().T"
   ]
  },
  {
   "cell_type": "markdown",
   "metadata": {},
   "source": [
    "## Table based comparison"
   ]
  },
  {
   "cell_type": "code",
   "execution_count": null,
   "metadata": {},
   "outputs": [],
   "source": [
    "def calc_compare_table(df, topic):\n",
    "    tmp = pd.pivot_table(df, values=topic, index='name', columns='commitid')\n",
    "    tmp = tmp.reset_index().rename_axis(None, axis=1)\n",
    "    id1 = df.commitid.unique()[0] \n",
    "    id2 = df.commitid.unique()[1]\n",
    "    tmp = tmp[['name', id1, id2]]\n",
    "    tmp['diff'] = tmp[id2] - tmp[id1]\n",
    "    tmp['pct_diff'] = 100.*tmp['diff']/tmp[id1]\n",
    "    return tmp\n",
    "    \n",
    "    \n",
    "def display_compare_table(df, N=4):\n",
    "    print('Top %d percentage increases'%N)\n",
    "    display(df.sort_values('pct_diff', ascending=False).head(N))\n",
    "\n",
    "    print('Top %d percentage decreases'%N)\n",
    "    display(df.sort_values('pct_diff', ascending=True).head(N))\n"
   ]
  },
  {
   "cell_type": "code",
   "execution_count": null,
   "metadata": {},
   "outputs": [],
   "source": [
    "tmp = calc_compare_table(df, 'time_secs')\n",
    "display_compare_table(tmp)"
   ]
  },
  {
   "cell_type": "markdown",
   "metadata": {},
   "source": [
    "## Time"
   ]
  },
  {
   "cell_type": "code",
   "execution_count": null,
   "metadata": {},
   "outputs": [],
   "source": [
    "g = sns.catplot (x='name', y='time_secs', hue='commitid', data = df, kind ='bar', aspect=16)\n",
    "g.set_xticklabels(rotation=90)"
   ]
  },
  {
   "cell_type": "markdown",
   "metadata": {},
   "source": [
    "### Normalised"
   ]
  },
  {
   "cell_type": "code",
   "execution_count": null,
   "metadata": {},
   "outputs": [],
   "source": [
    "base_commitid = df.commitid.unique()[0]\n",
    "print('For normalization using base_commitid: '+base_commitid)"
   ]
  },
  {
   "cell_type": "code",
   "execution_count": null,
   "metadata": {},
   "outputs": [],
   "source": [
    "def normalize(df, base_commitid, topic):\n",
    "    idx = df['commitid'] == base_commitid\n",
    "    normal_df = df[idx][['name', topic]].set_index('name')\n",
    "    tmp = df[['name', topic, 'commitid']][~idx].set_index(['commitid','name'])\n",
    "    tmp = tmp.div(normal_df)\n",
    "    return tmp.rename(columns={topic:'n'+topic}).reset_index()"
   ]
  },
  {
   "cell_type": "code",
   "execution_count": null,
   "metadata": {
    "scrolled": true
   },
   "outputs": [],
   "source": [
    "ndf = normalize(df,base_commitid,'time_secs')\n",
    "ndf.sort_values(by=['ntime_secs'],inplace=True)\n",
    "ndf"
   ]
  },
  {
   "cell_type": "code",
   "execution_count": null,
   "metadata": {},
   "outputs": [],
   "source": [
    "ndf['ntime_cumavg']=ndf.ntime_secs.expanding().mean()\n",
    "ndf"
   ]
  },
  {
   "cell_type": "code",
   "execution_count": null,
   "metadata": {},
   "outputs": [],
   "source": [
    "sns.set_style(\"whitegrid\")\n",
    "g = sns.catplot (x='name', y='ntime_secs', hue='commitid', data = ndf, kind ='bar', aspect=16, orient=\"v\")\n",
    "g.set_xticklabels(rotation=90)"
   ]
  },
  {
   "cell_type": "markdown",
   "metadata": {},
   "source": [
    "Save the figure as a pdf"
   ]
  },
  {
   "cell_type": "code",
   "execution_count": null,
   "metadata": {},
   "outputs": [],
   "source": [
    "g.savefig(\"no_infix_tag_normalised_runtime.pdf\")"
   ]
  },
  {
   "cell_type": "markdown",
   "metadata": {},
   "source": [
    "## Major words"
   ]
  },
  {
   "cell_type": "code",
   "execution_count": null,
   "metadata": {},
   "outputs": [],
   "source": [
    "g = sns.catplot (x='name', y='gc.major_words', hue='commitid', data = df, kind ='bar', aspect=4)\n",
    "g.set_xticklabels(rotation=90)"
   ]
  },
  {
   "cell_type": "markdown",
   "metadata": {},
   "source": [
    "### Normalised"
   ]
  },
  {
   "cell_type": "code",
   "execution_count": null,
   "metadata": {},
   "outputs": [],
   "source": [
    "ndf = normalize(df,base_commitid,'gc.major_words')\n",
    "ndf.sort_values(by=['ngc.major_words'],inplace=True)\n",
    "g = sns.catplot (x='name', y='ngc.major_words', hue='commitid', data = ndf, kind ='bar', aspect=4)\n",
    "g.set_xticklabels(rotation=90)"
   ]
  }
 ],
 "metadata": {
  "kernelspec": {
   "display_name": "Python 3",
   "language": "python",
   "name": "python3"
  },
  "language_info": {
   "codemirror_mode": {
    "name": "ipython",
    "version": 3
   },
   "file_extension": ".py",
   "mimetype": "text/x-python",
   "name": "python",
   "nbconvert_exporter": "python",
   "pygments_lexer": "ipython3",
   "version": "3.7.4"
  }
 },
 "nbformat": 4,
 "nbformat_minor": 2
}
